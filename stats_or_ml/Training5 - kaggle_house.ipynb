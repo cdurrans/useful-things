{
 "cells": [
  {
   "cell_type": "code",
   "execution_count": 3,
   "metadata": {},
   "outputs": [],
   "source": [
    "import pandas as pd\n",
    "# import tensorflow as tf\n",
    "import matplotlib.pyplot as plt\n",
    "import keras\n",
    "from sklearn.model_selection import train_test_split\n",
    "from sklearn.metrics import mean_squared_error\n",
    "from math import sqrt\n",
    "\n",
    "# tf.__version__"
   ]
  },
  {
   "cell_type": "code",
   "execution_count": 4,
   "metadata": {},
   "outputs": [
    {
     "data": {
      "text/html": [
       "\n",
       "                Logging results to <a href=\"https://wandb.com\" target=\"_blank\">Weights & Biases</a> <a href=\"https://docs.wandb.com/integrations/jupyter.html\" target=\"_blank\">(Documentation)</a>.<br/>\n",
       "                Project page: <a href=\"https://app.wandb.ai/durranschristopher/kagglehousetraining\" target=\"_blank\">https://app.wandb.ai/durranschristopher/kagglehousetraining</a><br/>\n",
       "                Run page: <a href=\"https://app.wandb.ai/durranschristopher/kagglehousetraining/runs/xvr1sijt\" target=\"_blank\">https://app.wandb.ai/durranschristopher/kagglehousetraining/runs/xvr1sijt</a><br/>\n",
       "            "
      ],
      "text/plain": [
       "<IPython.core.display.HTML object>"
      ]
     },
     "metadata": {},
     "output_type": "display_data"
    },
    {
     "data": {
      "text/plain": [
       "W&B Run: https://app.wandb.ai/durranschristopher/kagglehousetraining/runs/xvr1sijt"
      ]
     },
     "execution_count": 4,
     "metadata": {},
     "output_type": "execute_result"
    }
   ],
   "source": [
    "import wandb\n",
    "# from wandb.tensorflow import WandbHook\n",
    "# wandb.init(project=\"kagglehousetraining\")\n",
    "\n",
    "from wandb.keras import WandbCallback\n",
    "wandb.init(project=\"kagglehousetraining\")\n"
   ]
  },
  {
   "cell_type": "code",
   "execution_count": 5,
   "metadata": {},
   "outputs": [],
   "source": [
    "def plot_acc(history, string):\n",
    "    plt.plot(history.history[string])\n",
    "    plt.plot(history.history['val_'+string])\n",
    "    plt.xlabel(\"Epochs\")\n",
    "    plt.ylabel(string)\n",
    "    plt.legend([string, 'val_'+string])\n",
    "    plt.show()"
   ]
  },
  {
   "cell_type": "code",
   "execution_count": 6,
   "metadata": {},
   "outputs": [],
   "source": [
    "train_df = pd.read_excel(\"kaggle-house.xlsx\",sheet_name=\"train\")\n",
    "\n",
    "X = train_df.iloc[:,:-1]\n",
    "y = train_df.iloc[:,-1:]\n",
    "\n",
    "X_train, X_test, y_train, y_test = train_test_split(X,y, test_size=0.1, random_state=0)\n",
    "X_train, X_val, y_train, y_val = train_test_split(X_train,y_train, test_size=0.2, random_state=0)"
   ]
  },
  {
   "cell_type": "code",
   "execution_count": 6,
   "metadata": {},
   "outputs": [],
   "source": [
    "#X_test"
   ]
  },
  {
   "cell_type": "markdown",
   "metadata": {},
   "source": [
    "# Parameters\n",
    "\n",
    "#### optimizer = ['Adadelta', 'Adagrad', 'Adam', 'Ftrl', 'Nadam', 'RMSprop', 'SGD']\n",
    "\n",
    "#### activation = ['linear', 'sigmoid', 'tanh', 'relu', 'selu', 'elu']"
   ]
  },
  {
   "cell_type": "code",
   "execution_count": 7,
   "metadata": {},
   "outputs": [
    {
     "name": "stdout",
     "output_type": "stream",
     "text": [
      "_________________________________________________________________\n",
      "Layer (type)                 Output Shape              Param #   \n",
      "=================================================================\n",
      "dense_1 (Dense)              (None, 10)                3050      \n",
      "_________________________________________________________________\n",
      "dropout_1 (Dropout)          (None, 10)                0         \n",
      "_________________________________________________________________\n",
      "dense_2 (Dense)              (None, 5)                 55        \n",
      "_________________________________________________________________\n",
      "dense_3 (Dense)              (None, 5)                 30        \n",
      "_________________________________________________________________\n",
      "dense_4 (Dense)              (None, 5)                 30        \n",
      "_________________________________________________________________\n",
      "dense_5 (Dense)              (None, 1)                 6         \n",
      "=================================================================\n",
      "Total params: 3,171\n",
      "Trainable params: 3,171\n",
      "Non-trainable params: 0\n",
      "_________________________________________________________________\n"
     ]
    }
   ],
   "source": [
    "\n",
    "model = keras.models.Sequential([\n",
    "    keras.layers.Dense(units=10,input_shape=[304]), #Do not change input shape\n",
    "    keras.layers.Dropout(0.1),#Add dropouts between layers\n",
    "    keras.layers.Dense(units=5,activation='sigmoid',kernel_regularizer=keras.regularizers.l1(l=0.1)), #add l1/l2 to layers\n",
    "    keras.layers.Dense(units=5,activation='tanh',kernel_regularizer=keras.regularizers.l2(l=0.1)),\n",
    "    keras.layers.Dense(units=5,activation='relu'), #Kernel regularizers are optional\n",
    "    keras.layers.Dense(units=1) #Do not change final layer\n",
    "])\n",
    "\n",
    "model.compile(optimizer='adam',loss='mean_squared_error')\n",
    "model.summary()"
   ]
  },
  {
   "cell_type": "code",
   "execution_count": 8,
   "metadata": {},
   "outputs": [
    {
     "name": "stdout",
     "output_type": "stream",
     "text": [
      "Train on 1051 samples, validate on 263 samples\n",
      "Epoch 1/10\n",
      "1051/1051 [==============================] - 1s 1ms/step - loss: 38902757120.7307 - val_loss: 39484573859.5285\n",
      "Epoch 2/10\n",
      "1051/1051 [==============================] - 0s 104us/step - loss: 38902045001.3168 - val_loss: 39483764284.3498\n",
      "Epoch 3/10\n",
      "1051/1051 [==============================] - 0s 100us/step - loss: 38901170696.2816 - val_loss: 39482839320.3346\n",
      "Epoch 4/10\n",
      "1051/1051 [==============================] - 0s 366us/step - loss: 38900203295.9087 - val_loss: 39481844350.5399\n",
      "Epoch 5/10\n",
      "1051/1051 [==============================] - 0s 402us/step - loss: 38899179800.6013 - val_loss: 39480806271.5133\n",
      "Epoch 6/10\n",
      "1051/1051 [==============================] - 0s 300us/step - loss: 38898106664.1903 - val_loss: 39479718464.2433\n",
      "Epoch 7/10\n",
      "1051/1051 [==============================] - 0s 111us/step - loss: 38896976289.0048 - val_loss: 39478545248.3650\n",
      "Epoch 8/10\n",
      "1051/1051 [==============================] - 0s 157us/step - loss: 38895762183.5509 - val_loss: 39477309502.2966\n",
      "Epoch 9/10\n",
      "1051/1051 [==============================] - 0s 183us/step - loss: 38894487296.7307 - val_loss: 39476000215.1179\n",
      "Epoch 10/10\n",
      "1051/1051 [==============================] - 0s 209us/step - loss: 38893135468.6356 - val_loss: 39474605363.5894\n"
     ]
    }
   ],
   "source": [
    "import os\n",
    "\n",
    "history = model.fit(X_train, y_train, batch_size=10, epochs=10, validation_data=(X_val,y_val))\n",
    "\n",
    "model.save(os.path.join(wandb.run.dir, \"model.h5\"))"
   ]
  },
  {
   "cell_type": "code",
   "execution_count": 9,
   "metadata": {},
   "outputs": [
    {
     "data": {
      "image/png": "[encoded data removed]",
      "text/plain": [
       "<Figure size 432x288 with 1 Axes>"
      ]
     },
     "metadata": {
      "needs_background": "light"
     },
     "output_type": "display_data"
    }
   ],
   "source": [
    " plot_acc(history,'loss')"
   ]
  }
 ],
 "metadata": {
  "kernelspec": {
   "display_name": "TensorFlow",
   "language": "python",
   "name": "tensorflow"
  },
  "language_info": {
   "codemirror_mode": {
    "name": "ipython",
    "version": 3
   },
   "file_extension": ".py",
   "mimetype": "text/x-python",
   "name": "python",
   "nbconvert_exporter": "python",
   "pygments_lexer": "ipython3",
   "version": "3.5.5"
  }
 },
 "nbformat": 4,
 "nbformat_minor": 2
}
