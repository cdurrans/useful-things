{
 "cells": [
  {
   "cell_type": "markdown",
   "metadata": {},
   "source": [
    "## \"Hello World\" Neural Network"
   ]
  },
  {
   "cell_type": "code",
   "execution_count": 5,
   "metadata": {},
   "outputs": [],
   "source": [
    "from keras.models import Sequential\n",
    "from keras.layers import Dense\n",
    "import numpy as np\n",
    "import pandas as pd"
   ]
  },
  {
   "cell_type": "code",
   "execution_count": 11,
   "metadata": {},
   "outputs": [
    {
     "name": "stdout",
     "output_type": "stream",
     "text": [
      "Epoch 1/200\n",
      "6/6 [==============================] - 0s 33ms/step - loss: 8.9041\n",
      "Epoch 2/200\n",
      "6/6 [==============================] - 0s 128us/step - loss: 3.2144\n",
      "Epoch 3/200\n",
      "6/6 [==============================] - 0s 170us/step - loss: 1.3925\n",
      "Epoch 4/200\n",
      "6/6 [==============================] - 0s 166us/step - loss: 0.8827\n",
      "Epoch 5/200\n",
      "6/6 [==============================] - 0s 166us/step - loss: 0.7224\n",
      "Epoch 6/200\n",
      "6/6 [==============================] - 0s 158us/step - loss: 0.6473\n",
      "Epoch 7/200\n",
      "6/6 [==============================] - 0s 175us/step - loss: 0.5931\n",
      "Epoch 8/200\n",
      "6/6 [==============================] - 0s 152us/step - loss: 0.5460\n",
      "Epoch 9/200\n",
      "6/6 [==============================] - 0s 167us/step - loss: 0.5030\n",
      "Epoch 10/200\n",
      "6/6 [==============================] - 0s 167us/step - loss: 0.4633\n",
      "Epoch 11/200\n",
      "6/6 [==============================] - 0s 120us/step - loss: 0.4266\n",
      "Epoch 12/200\n",
      "6/6 [==============================] - 0s 166us/step - loss: 0.3926\n",
      "Epoch 13/200\n",
      "6/6 [==============================] - 0s 166us/step - loss: 0.3612\n",
      "Epoch 14/200\n",
      "6/6 [==============================] - 0s 92us/step - loss: 0.3322\n",
      "Epoch 15/200\n",
      "6/6 [==============================] - 0s 110us/step - loss: 0.3054\n",
      "Epoch 16/200\n",
      "6/6 [==============================] - 0s 84us/step - loss: 0.2807\n",
      "Epoch 17/200\n",
      "6/6 [==============================] - 0s 149us/step - loss: 0.2578\n",
      "Epoch 18/200\n",
      "6/6 [==============================] - 0s 183us/step - loss: 0.2368\n",
      "Epoch 19/200\n",
      "6/6 [==============================] - 0s 166us/step - loss: 0.2173\n",
      "Epoch 20/200\n",
      "6/6 [==============================] - 0s 298us/step - loss: 0.1994\n",
      "Epoch 21/200\n",
      "6/6 [==============================] - 0s 332us/step - loss: 0.1829\n",
      "Epoch 22/200\n",
      "6/6 [==============================] - 0s 310us/step - loss: 0.1677\n",
      "Epoch 23/200\n",
      "6/6 [==============================] - 0s 212us/step - loss: 0.1537\n",
      "Epoch 24/200\n",
      "6/6 [==============================] - 0s 166us/step - loss: 0.1408\n",
      "Epoch 25/200\n",
      "6/6 [==============================] - 0s 206us/step - loss: 0.1290\n",
      "Epoch 26/200\n",
      "6/6 [==============================] - 0s 251us/step - loss: 0.1181\n",
      "Epoch 27/200\n",
      "6/6 [==============================] - 0s 168us/step - loss: 0.1081\n",
      "Epoch 28/200\n",
      "6/6 [==============================] - 0s 331us/step - loss: 0.0989\n",
      "Epoch 29/200\n",
      "6/6 [==============================] - 0s 166us/step - loss: 0.0905\n",
      "Epoch 30/200\n",
      "6/6 [==============================] - 0s 169us/step - loss: 0.0828\n",
      "Epoch 31/200\n",
      "6/6 [==============================] - 0s 213us/step - loss: 0.0757\n",
      "Epoch 32/200\n",
      "6/6 [==============================] - 0s 168us/step - loss: 0.0692\n",
      "Epoch 33/200\n",
      "6/6 [==============================] - 0s 198us/step - loss: 0.0632\n",
      "Epoch 34/200\n",
      "6/6 [==============================] - 0s 120us/step - loss: 0.0577\n",
      "Epoch 35/200\n",
      "6/6 [==============================] - 0s 243us/step - loss: 0.0527\n",
      "Epoch 36/200\n",
      "6/6 [==============================] - 0s 193us/step - loss: 0.0481\n",
      "Epoch 37/200\n",
      "6/6 [==============================] - 0s 361us/step - loss: 0.0439\n",
      "Epoch 38/200\n",
      "6/6 [==============================] - 0s 264us/step - loss: 0.0401\n",
      "Epoch 39/200\n",
      "6/6 [==============================] - 0s 242us/step - loss: 0.0366\n",
      "Epoch 40/200\n",
      "6/6 [==============================] - 0s 178us/step - loss: 0.0334\n",
      "Epoch 41/200\n",
      "6/6 [==============================] - 0s 238us/step - loss: 0.0304\n",
      "Epoch 42/200\n",
      "6/6 [==============================] - 0s 166us/step - loss: 0.0277\n",
      "Epoch 43/200\n",
      "6/6 [==============================] - 0s 166us/step - loss: 0.0253\n",
      "Epoch 44/200\n",
      "6/6 [==============================] - 0s 166us/step - loss: 0.0230\n",
      "Epoch 45/200\n",
      "6/6 [==============================] - 0s 0us/step - loss: 0.0210\n",
      "Epoch 46/200\n",
      "6/6 [==============================] - 0s 166us/step - loss: 0.0191\n",
      "Epoch 47/200\n",
      "6/6 [==============================] - 0s 162us/step - loss: 0.0174\n",
      "Epoch 48/200\n",
      "6/6 [==============================] - 0s 166us/step - loss: 0.0159\n",
      "Epoch 49/200\n",
      "6/6 [==============================] - 0s 332us/step - loss: 0.0145\n",
      "Epoch 50/200\n",
      "6/6 [==============================] - 0s 166us/step - loss: 0.0132\n",
      "Epoch 51/200\n",
      "6/6 [==============================] - 0s 166us/step - loss: 0.0120\n",
      "Epoch 52/200\n",
      "6/6 [==============================] - 0s 333us/step - loss: 0.0109\n",
      "Epoch 53/200\n",
      "6/6 [==============================] - 0s 332us/step - loss: 0.0099\n",
      "Epoch 54/200\n",
      "6/6 [==============================] - 0s 166us/step - loss: 0.0090\n",
      "Epoch 55/200\n",
      "6/6 [==============================] - 0s 333us/step - loss: 0.0082\n",
      "Epoch 56/200\n",
      "6/6 [==============================] - 0s 0us/step - loss: 0.0075\n",
      "Epoch 57/200\n",
      "6/6 [==============================] - 0s 190us/step - loss: 0.0068\n",
      "Epoch 58/200\n",
      "6/6 [==============================] - 0s 166us/step - loss: 0.0062\n",
      "Epoch 59/200\n",
      "6/6 [==============================] - 0s 127us/step - loss: 0.0056\n",
      "Epoch 60/200\n",
      "6/6 [==============================] - 0s 50us/step - loss: 0.0051\n",
      "Epoch 61/200\n",
      "6/6 [==============================] - 0s 219us/step - loss: 0.0047\n",
      "Epoch 62/200\n",
      "6/6 [==============================] - 0s 166us/step - loss: 0.0042\n",
      "Epoch 63/200\n",
      "6/6 [==============================] - 0s 170us/step - loss: 0.0038\n",
      "Epoch 64/200\n",
      "6/6 [==============================] - 0s 0us/step - loss: 0.0035\n",
      "Epoch 65/200\n",
      "6/6 [==============================] - 0s 116us/step - loss: 0.0032\n",
      "Epoch 66/200\n",
      "6/6 [==============================] - 0s 166us/step - loss: 0.0029\n",
      "Epoch 67/200\n",
      "6/6 [==============================] - 0s 115us/step - loss: 0.0026\n",
      "Epoch 68/200\n",
      "6/6 [==============================] - 0s 161us/step - loss: 0.0024\n",
      "Epoch 69/200\n",
      "6/6 [==============================] - 0s 222us/step - loss: 0.0022\n",
      "Epoch 70/200\n",
      "6/6 [==============================] - 0s 165us/step - loss: 0.0020\n",
      "Epoch 71/200\n",
      "6/6 [==============================] - 0s 108us/step - loss: 0.0018\n",
      "Epoch 72/200\n",
      "6/6 [==============================] - 0s 166us/step - loss: 0.0016\n",
      "Epoch 73/200\n",
      "6/6 [==============================] - 0s 0us/step - loss: 0.0015\n",
      "Epoch 74/200\n",
      "6/6 [==============================] - 0s 166us/step - loss: 0.0013\n",
      "Epoch 75/200\n",
      "6/6 [==============================] - 0s 166us/step - loss: 0.0012\n",
      "Epoch 76/200\n",
      "6/6 [==============================] - 0s 114us/step - loss: 0.0011\n",
      "Epoch 77/200\n",
      "6/6 [==============================] - 0s 249us/step - loss: 0.0010\n",
      "Epoch 78/200\n",
      "6/6 [==============================] - 0s 262us/step - loss: 9.1531e-04\n",
      "Epoch 79/200\n",
      "6/6 [==============================] - 0s 166us/step - loss: 8.3140e-04\n",
      "Epoch 80/200\n",
      "6/6 [==============================] - 0s 146us/step - loss: 7.5516e-04\n",
      "Epoch 81/200\n",
      "6/6 [==============================] - 0s 114us/step - loss: 6.8588e-04\n",
      "Epoch 82/200\n",
      "6/6 [==============================] - 0s 0us/step - loss: 6.2294e-04\n",
      "Epoch 83/200\n",
      "6/6 [==============================] - 0s 215us/step - loss: 5.6574e-04\n",
      "Epoch 84/200\n",
      "6/6 [==============================] - 0s 166us/step - loss: 5.1379e-04\n",
      "Epoch 85/200\n",
      "6/6 [==============================] - 0s 141us/step - loss: 4.6660e-04\n",
      "Epoch 86/200\n",
      "6/6 [==============================] - 0s 166us/step - loss: 4.2372e-04\n",
      "Epoch 87/200\n",
      "6/6 [==============================] - 0s 166us/step - loss: 3.8478e-04\n",
      "Epoch 88/200\n",
      "6/6 [==============================] - 0s 145us/step - loss: 3.4940e-04\n",
      "Epoch 89/200\n",
      "6/6 [==============================] - 0s 189us/step - loss: 3.1727e-04\n",
      "Epoch 90/200\n",
      "6/6 [==============================] - 0s 274us/step - loss: 2.8809e-04\n",
      "Epoch 91/200\n",
      "6/6 [==============================] - 0s 273us/step - loss: 2.6158e-04\n",
      "Epoch 92/200\n",
      "6/6 [==============================] - 0s 332us/step - loss: 2.3751e-04\n",
      "Epoch 93/200\n",
      "6/6 [==============================] - 0s 332us/step - loss: 2.1564e-04\n",
      "Epoch 94/200\n",
      "6/6 [==============================] - 0s 333us/step - loss: 1.9580e-04\n",
      "Epoch 95/200\n",
      "6/6 [==============================] - 0s 166us/step - loss: 1.7777e-04\n",
      "Epoch 96/200\n",
      "6/6 [==============================] - 0s 166us/step - loss: 1.6140e-04\n",
      "Epoch 97/200\n",
      "6/6 [==============================] - 0s 122us/step - loss: 1.4653e-04\n",
      "Epoch 98/200\n",
      "6/6 [==============================] - 0s 143us/step - loss: 1.3303e-04\n",
      "Epoch 99/200\n",
      "6/6 [==============================] - 0s 78us/step - loss: 1.2077e-04\n",
      "Epoch 100/200\n",
      "6/6 [==============================] - 0s 166us/step - loss: 1.0964e-04\n",
      "Epoch 101/200\n",
      "6/6 [==============================] - 0s 161us/step - loss: 9.9536e-05\n"
     ]
    },
    {
     "name": "stdout",
     "output_type": "stream",
     "text": [
      "Epoch 102/200\n",
      "6/6 [==============================] - 0s 166us/step - loss: 9.0360e-05\n",
      "Epoch 103/200\n",
      "6/6 [==============================] - 0s 166us/step - loss: 8.2032e-05\n",
      "Epoch 104/200\n",
      "6/6 [==============================] - 0s 0us/step - loss: 7.4467e-05\n",
      "Epoch 105/200\n",
      "6/6 [==============================] - 0s 0us/step - loss: 6.7599e-05\n",
      "Epoch 106/200\n",
      "6/6 [==============================] - 0s 198us/step - loss: 6.1367e-05\n",
      "Epoch 107/200\n",
      "6/6 [==============================] - 0s 166us/step - loss: 5.5707e-05\n",
      "Epoch 108/200\n",
      "6/6 [==============================] - 0s 238us/step - loss: 5.0567e-05\n",
      "Epoch 109/200\n",
      "6/6 [==============================] - 0s 166us/step - loss: 4.5902e-05\n",
      "Epoch 110/200\n",
      "6/6 [==============================] - 0s 166us/step - loss: 4.1666e-05\n",
      "Epoch 111/200\n",
      "6/6 [==============================] - 0s 176us/step - loss: 3.7823e-05\n",
      "Epoch 112/200\n",
      "6/6 [==============================] - 0s 279us/step - loss: 3.4332e-05\n",
      "Epoch 113/200\n",
      "6/6 [==============================] - 0s 139us/step - loss: 3.1163e-05\n",
      "Epoch 114/200\n",
      "6/6 [==============================] - 0s 157us/step - loss: 2.8288e-05\n",
      "Epoch 115/200\n",
      "6/6 [==============================] - 0s 168us/step - loss: 2.5676e-05\n",
      "Epoch 116/200\n",
      "6/6 [==============================] - 0s 166us/step - loss: 2.3306e-05\n",
      "Epoch 117/200\n",
      "6/6 [==============================] - 0s 166us/step - loss: 2.1154e-05\n",
      "Epoch 118/200\n",
      "6/6 [==============================] - 0s 166us/step - loss: 1.9203e-05\n",
      "Epoch 119/200\n",
      "6/6 [==============================] - 0s 0us/step - loss: 1.7428e-05\n",
      "Epoch 120/200\n",
      "6/6 [==============================] - 0s 166us/step - loss: 1.5820e-05\n",
      "Epoch 121/200\n",
      "6/6 [==============================] - 0s 0us/step - loss: 1.4359e-05\n",
      "Epoch 122/200\n",
      "6/6 [==============================] - 0s 0us/step - loss: 1.3033e-05\n",
      "Epoch 123/200\n",
      "6/6 [==============================] - 0s 174us/step - loss: 1.1829e-05\n",
      "Epoch 124/200\n",
      "6/6 [==============================] - 0s 61us/step - loss: 1.0737e-05\n",
      "Epoch 125/200\n",
      "6/6 [==============================] - 0s 37us/step - loss: 9.7457e-06\n",
      "Epoch 126/200\n",
      "6/6 [==============================] - 0s 159us/step - loss: 8.8456e-06\n",
      "Epoch 127/200\n",
      "6/6 [==============================] - 0s 166us/step - loss: 8.0293e-06\n",
      "Epoch 128/200\n",
      "6/6 [==============================] - 0s 0us/step - loss: 7.2867e-06\n",
      "Epoch 129/200\n",
      "6/6 [==============================] - 0s 166us/step - loss: 6.6138e-06\n",
      "Epoch 130/200\n",
      "6/6 [==============================] - 0s 200us/step - loss: 6.0028e-06\n",
      "Epoch 131/200\n",
      "6/6 [==============================] - 0s 173us/step - loss: 5.4486e-06\n",
      "Epoch 132/200\n",
      "6/6 [==============================] - 0s 34us/step - loss: 4.9451e-06\n",
      "Epoch 133/200\n",
      "6/6 [==============================] - 0s 189us/step - loss: 4.4886e-06\n",
      "Epoch 134/200\n",
      "6/6 [==============================] - 0s 166us/step - loss: 4.0738e-06\n",
      "Epoch 135/200\n",
      "6/6 [==============================] - 0s 166us/step - loss: 3.6972e-06\n",
      "Epoch 136/200\n",
      "6/6 [==============================] - 0s 211us/step - loss: 3.3554e-06\n",
      "Epoch 137/200\n",
      "6/6 [==============================] - 0s 239us/step - loss: 3.0459e-06\n",
      "Epoch 138/200\n",
      "6/6 [==============================] - 0s 0us/step - loss: 2.7644e-06\n",
      "Epoch 139/200\n",
      "6/6 [==============================] - 0s 174us/step - loss: 2.5088e-06\n",
      "Epoch 140/200\n",
      "6/6 [==============================] - 0s 16us/step - loss: 2.2770e-06\n",
      "Epoch 141/200\n",
      "6/6 [==============================] - 0s 0us/step - loss: 2.0668e-06\n",
      "Epoch 142/200\n",
      "6/6 [==============================] - 0s 169us/step - loss: 1.8757e-06\n",
      "Epoch 143/200\n",
      "6/6 [==============================] - 0s 166us/step - loss: 1.7025e-06\n",
      "Epoch 144/200\n",
      "6/6 [==============================] - 0s 166us/step - loss: 1.5452e-06\n",
      "Epoch 145/200\n",
      "6/6 [==============================] - 0s 166us/step - loss: 1.4027e-06\n",
      "Epoch 146/200\n",
      "6/6 [==============================] - 0s 337us/step - loss: 1.2729e-06\n",
      "Epoch 147/200\n",
      "6/6 [==============================] - 0s 331us/step - loss: 1.1552e-06\n",
      "Epoch 148/200\n",
      "6/6 [==============================] - 0s 166us/step - loss: 1.0488e-06\n",
      "Epoch 149/200\n",
      "6/6 [==============================] - 0s 265us/step - loss: 9.5172e-07\n",
      "Epoch 150/200\n",
      "6/6 [==============================] - 0s 168us/step - loss: 8.6383e-07\n",
      "Epoch 151/200\n",
      "6/6 [==============================] - 0s 168us/step - loss: 7.8390e-07\n",
      "Epoch 152/200\n",
      "6/6 [==============================] - 0s 166us/step - loss: 7.1140e-07\n",
      "Epoch 153/200\n",
      "6/6 [==============================] - 0s 170us/step - loss: 6.4563e-07\n",
      "Epoch 154/200\n",
      "6/6 [==============================] - 0s 166us/step - loss: 5.8595e-07\n",
      "Epoch 155/200\n",
      "6/6 [==============================] - 0s 166us/step - loss: 5.3200e-07\n",
      "Epoch 156/200\n",
      "6/6 [==============================] - 0s 83us/step - loss: 4.8273e-07\n",
      "Epoch 157/200\n",
      "6/6 [==============================] - 0s 151us/step - loss: 4.3808e-07\n",
      "Epoch 158/200\n",
      "6/6 [==============================] - 0s 166us/step - loss: 3.9750e-07\n",
      "Epoch 159/200\n",
      "6/6 [==============================] - 0s 163us/step - loss: 3.6081e-07\n",
      "Epoch 160/200\n",
      "6/6 [==============================] - 0s 0us/step - loss: 3.2762e-07\n",
      "Epoch 161/200\n",
      "6/6 [==============================] - 0s 166us/step - loss: 2.9725e-07\n",
      "Epoch 162/200\n",
      "6/6 [==============================] - 0s 166us/step - loss: 2.6987e-07\n",
      "Epoch 163/200\n",
      "6/6 [==============================] - 0s 166us/step - loss: 2.4480e-07\n",
      "Epoch 164/200\n",
      "6/6 [==============================] - 0s 392us/step - loss: 2.2214e-07\n",
      "Epoch 165/200\n",
      "6/6 [==============================] - 0s 269us/step - loss: 2.0167e-07\n",
      "Epoch 166/200\n",
      "6/6 [==============================] - 0s 166us/step - loss: 1.8298e-07\n",
      "Epoch 167/200\n",
      "6/6 [==============================] - 0s 255us/step - loss: 1.6606e-07\n",
      "Epoch 168/200\n",
      "6/6 [==============================] - 0s 166us/step - loss: 1.5076e-07\n",
      "Epoch 169/200\n",
      "6/6 [==============================] - 0s 166us/step - loss: 1.3683e-07\n",
      "Epoch 170/200\n",
      "6/6 [==============================] - 0s 166us/step - loss: 1.2415e-07\n",
      "Epoch 171/200\n",
      "6/6 [==============================] - 0s 172us/step - loss: 1.1270e-07\n",
      "Epoch 172/200\n",
      "6/6 [==============================] - 0s 103us/step - loss: 1.0233e-07\n",
      "Epoch 173/200\n",
      "6/6 [==============================] - 0s 167us/step - loss: 9.2830e-08\n",
      "Epoch 174/200\n",
      "6/6 [==============================] - 0s 161us/step - loss: 8.4253e-08\n",
      "Epoch 175/200\n",
      "6/6 [==============================] - 0s 166us/step - loss: 7.6512e-08\n",
      "Epoch 176/200\n",
      "6/6 [==============================] - 0s 166us/step - loss: 6.9472e-08\n",
      "Epoch 177/200\n",
      "6/6 [==============================] - 0s 179us/step - loss: 6.2951e-08\n",
      "Epoch 178/200\n",
      "6/6 [==============================] - 0s 166us/step - loss: 5.7166e-08\n",
      "Epoch 179/200\n",
      "6/6 [==============================] - 0s 0us/step - loss: 5.1906e-08\n",
      "Epoch 180/200\n",
      "6/6 [==============================] - 0s 166us/step - loss: 4.7109e-08\n",
      "Epoch 181/200\n",
      "6/6 [==============================] - 0s 183us/step - loss: 4.2752e-08\n",
      "Epoch 182/200\n",
      "6/6 [==============================] - 0s 166us/step - loss: 3.8788e-08\n",
      "Epoch 183/200\n",
      "6/6 [==============================] - 0s 166us/step - loss: 3.5166e-08\n",
      "Epoch 184/200\n",
      "6/6 [==============================] - 0s 199us/step - loss: 3.1946e-08\n",
      "Epoch 185/200\n",
      "6/6 [==============================] - 0s 253us/step - loss: 2.8981e-08\n",
      "Epoch 186/200\n",
      "6/6 [==============================] - 0s 254us/step - loss: 2.6302e-08\n",
      "Epoch 187/200\n",
      "6/6 [==============================] - 0s 166us/step - loss: 2.3853e-08\n",
      "Epoch 188/200\n",
      "6/6 [==============================] - 0s 166us/step - loss: 2.1685e-08\n",
      "Epoch 189/200\n",
      "6/6 [==============================] - 0s 128us/step - loss: 1.9669e-08\n",
      "Epoch 190/200\n",
      "6/6 [==============================] - 0s 166us/step - loss: 1.7883e-08\n",
      "Epoch 191/200\n",
      "6/6 [==============================] - 0s 31us/step - loss: 1.6209e-08\n",
      "Epoch 192/200\n",
      "6/6 [==============================] - 0s 166us/step - loss: 1.4711e-08\n",
      "Epoch 193/200\n",
      "6/6 [==============================] - 0s 167us/step - loss: 1.3334e-08\n",
      "Epoch 194/200\n",
      "6/6 [==============================] - 0s 187us/step - loss: 1.2146e-08\n",
      "Epoch 195/200\n",
      "6/6 [==============================] - 0s 333us/step - loss: 1.0987e-08\n",
      "Epoch 196/200\n",
      "6/6 [==============================] - 0s 0us/step - loss: 9.9591e-09\n",
      "Epoch 197/200\n",
      "6/6 [==============================] - 0s 258us/step - loss: 9.0514e-09\n"
     ]
    },
    {
     "name": "stdout",
     "output_type": "stream",
     "text": [
      "Epoch 198/200\n",
      "6/6 [==============================] - 0s 0us/step - loss: 8.2118e-09\n",
      "Epoch 199/200\n",
      "6/6 [==============================] - 0s 48us/step - loss: 7.4602e-09\n",
      "Epoch 200/200\n",
      "6/6 [==============================] - 0s 166us/step - loss: 6.7650e-09\n",
      "[[18.999783]]\n"
     ]
    }
   ],
   "source": [
    "x = np.array([-1,0,1,2,3,4])\n",
    "y = np.array([-3,-1,1,3,5,7])\n",
    "\n",
    "\n",
    "model = Sequential([\n",
    "    Dense(units=20, input_shape=[1]),\n",
    "    Dense(units=1)\n",
    "])\n",
    "model.compile(optimizer='sgd',loss='mean_squared_error')\n",
    "\n",
    "model.fit(x,y,epochs=200)\n",
    "\n",
    "print(model.predict([10]))"
   ]
  },
  {
   "cell_type": "markdown",
   "metadata": {},
   "source": [
    "## Import Data and Packages"
   ]
  },
  {
   "cell_type": "code",
   "execution_count": 14,
   "metadata": {},
   "outputs": [],
   "source": [
    "from sklearn.neighbors import KNeighborsRegressor\n",
    "from sklearn.linear_model import LinearRegression\n",
    "from sklearn.svm import SVR\n",
    "from sklearn.ensemble import RandomForestRegressor\n",
    "from sklearn.ensemble import GradientBoostingRegressor\n",
    "from sklearn.neural_network import MLPRegressor\n",
    "\n",
    "from sklearn.model_selection import train_test_split\n",
    "from sklearn.metrics import mean_squared_error"
   ]
  },
  {
   "cell_type": "code",
   "execution_count": 15,
   "metadata": {},
   "outputs": [],
   "source": [
    "df = pd.read_csv(\"Training3-CV-keras-training.csv\")\n",
    "X = df.iloc[:,1:]\n",
    "y = df.iloc[:,0]\n",
    "\n",
    "X_train, X_test, y_train, y_test = train_test_split(X,y, test_size=0.2, random_state=0)"
   ]
  },
  {
   "cell_type": "markdown",
   "metadata": {},
   "source": [
    "### KNN"
   ]
  },
  {
   "cell_type": "code",
   "execution_count": 17,
   "metadata": {},
   "outputs": [
    {
     "name": "stdout",
     "output_type": "stream",
     "text": [
      "train mse:  29066.039384948577 \n",
      "test mse:  71521.22706811252\n"
     ]
    }
   ],
   "source": [
    "reg = KNeighborsRegressor(n_neighbors = 3).fit(X_train, y_train)\n",
    "\n",
    "train_y_hat = reg.predict(X_train)\n",
    "train_mse = mean_squared_error(y_train,train_y_hat)\n",
    "\n",
    "test_y_hat = reg.predict(X_test)\n",
    "test_mse = mean_squared_error(y_test,test_y_hat)\n",
    "\n",
    "print('train mse: ',train_mse, '\\ntest mse: ', test_mse)"
   ]
  },
  {
   "cell_type": "markdown",
   "metadata": {},
   "source": [
    "### Linear Regression"
   ]
  },
  {
   "cell_type": "code",
   "execution_count": 18,
   "metadata": {},
   "outputs": [
    {
     "name": "stdout",
     "output_type": "stream",
     "text": [
      "train mse:  107928.30736351406 \n",
      "test mse:  105747.01257991858\n"
     ]
    }
   ],
   "source": [
    "reg = LinearRegression().fit(X_train, y_train)\n",
    "\n",
    "train_y_hat = reg.predict(X_train)\n",
    "train_mse = mean_squared_error(y_train,train_y_hat)\n",
    "\n",
    "test_y_hat = reg.predict(X_test)\n",
    "test_mse = mean_squared_error(y_test,test_y_hat)\n",
    "\n",
    "print('train mse: ',train_mse, '\\ntest mse: ', test_mse)"
   ]
  },
  {
   "cell_type": "markdown",
   "metadata": {},
   "source": [
    "### Support Vector Machine"
   ]
  },
  {
   "cell_type": "code",
   "execution_count": 19,
   "metadata": {},
   "outputs": [
    {
     "name": "stderr",
     "output_type": "stream",
     "text": [
      "C:\\Users\\cdurrans\\AppData\\Local\\Continuum\\anaconda3\\envs\\tensorflow\\lib\\site-packages\\sklearn\\svm\\base.py:196: FutureWarning: The default value of gamma will change from 'auto' to 'scale' in version 0.22 to account better for unscaled features. Set gamma explicitly to 'auto' or 'scale' to avoid this warning.\n",
      "  \"avoid this warning.\", FutureWarning)\n"
     ]
    },
    {
     "name": "stdout",
     "output_type": "stream",
     "text": [
      "train mse:  170267.99626252512 \n",
      "test mse:  168994.17211857688\n"
     ]
    }
   ],
   "source": [
    "reg = SVR().fit(X_train, y_train)\n",
    "\n",
    "train_y_hat = reg.predict(X_train)\n",
    "train_mse = mean_squared_error(y_train,train_y_hat)\n",
    "\n",
    "test_y_hat = reg.predict(X_test)\n",
    "test_mse = mean_squared_error(y_test,test_y_hat)\n",
    "\n",
    "print('train mse: ',train_mse, '\\ntest mse: ', test_mse)"
   ]
  },
  {
   "cell_type": "markdown",
   "metadata": {},
   "source": [
    "### Random Forest"
   ]
  },
  {
   "cell_type": "code",
   "execution_count": 20,
   "metadata": {},
   "outputs": [
    {
     "name": "stderr",
     "output_type": "stream",
     "text": [
      "C:\\Users\\cdurrans\\AppData\\Local\\Continuum\\anaconda3\\envs\\tensorflow\\lib\\site-packages\\sklearn\\ensemble\\forest.py:246: FutureWarning: The default value of n_estimators will change from 10 in version 0.20 to 100 in 0.22.\n",
      "  \"10 in version 0.20 to 100 in 0.22.\", FutureWarning)\n"
     ]
    },
    {
     "name": "stdout",
     "output_type": "stream",
     "text": [
      "train mse:  6936.669678811878 \n",
      "test mse:  34653.412287838175\n"
     ]
    }
   ],
   "source": [
    "reg = RandomForestRegressor().fit(X_train, y_train)\n",
    "\n",
    "train_y_hat = reg.predict(X_train)\n",
    "train_mse = mean_squared_error(y_train,train_y_hat)\n",
    "\n",
    "test_y_hat = reg.predict(X_test)\n",
    "test_mse = mean_squared_error(y_test,test_y_hat)\n",
    "\n",
    "print('train mse: ',train_mse, '\\ntest mse: ', test_mse)"
   ]
  },
  {
   "cell_type": "markdown",
   "metadata": {},
   "source": [
    "### Gradient Boosted Decision Trees"
   ]
  },
  {
   "cell_type": "code",
   "execution_count": 21,
   "metadata": {},
   "outputs": [
    {
     "name": "stdout",
     "output_type": "stream",
     "text": [
      "train mse:  86773.88896385366 \n",
      "test mse:  88818.15753308393\n"
     ]
    }
   ],
   "source": [
    "reg = GradientBoostingRegressor().fit(X_train, y_train)\n",
    "\n",
    "train_y_hat = reg.predict(X_train)\n",
    "train_mse = mean_squared_error(y_train,train_y_hat)\n",
    "\n",
    "test_y_hat = reg.predict(X_test)\n",
    "test_mse = mean_squared_error(y_test,test_y_hat)\n",
    "\n",
    "print('train mse: ',train_mse, '\\ntest mse: ', test_mse)"
   ]
  },
  {
   "cell_type": "markdown",
   "metadata": {},
   "source": [
    "### Multi-Layer Perceptron"
   ]
  },
  {
   "cell_type": "code",
   "execution_count": 22,
   "metadata": {},
   "outputs": [
    {
     "name": "stdout",
     "output_type": "stream",
     "text": [
      "train mse:  112455.88173573764 \n",
      "test mse:  110980.18431225634\n"
     ]
    },
    {
     "name": "stderr",
     "output_type": "stream",
     "text": [
      "C:\\Users\\cdurrans\\AppData\\Local\\Continuum\\anaconda3\\envs\\tensorflow\\lib\\site-packages\\sklearn\\neural_network\\multilayer_perceptron.py:562: ConvergenceWarning: Stochastic Optimizer: Maximum iterations (200) reached and the optimization hasn't converged yet.\n",
      "  % self.max_iter, ConvergenceWarning)\n"
     ]
    }
   ],
   "source": [
    "reg = MLPRegressor(hidden_layer_sizes=[5,5,5]).fit(X_train, y_train)\n",
    "\n",
    "train_y_hat = reg.predict(X_train)\n",
    "train_mse = mean_squared_error(y_train,train_y_hat)\n",
    "\n",
    "test_y_hat = reg.predict(X_test)\n",
    "test_mse = mean_squared_error(y_test,test_y_hat)\n",
    "\n",
    "print('train mse: ',train_mse, '\\ntest mse: ', test_mse)"
   ]
  },
  {
   "cell_type": "code",
   "execution_count": null,
   "metadata": {},
   "outputs": [],
   "source": []
  },
  {
   "cell_type": "markdown",
   "metadata": {},
   "source": [
    "### Keras: Multi-Layer Perceptron"
   ]
  },
  {
   "cell_type": "code",
   "execution_count": null,
   "metadata": {},
   "outputs": [],
   "source": [
    "model = Sequential([\n",
    "    Dense(units=1024, input_shape=[128]),\n",
    "    Dense(units=512, activation='relu')\n",
    "    Dense(units=512, activation='relu')\n",
    "    Dense(units=256, activation='relu')\n",
    "    Dense(units=256, activation='relu')\n",
    "    Dense(units=128, activation='relu')\n",
    "    Dense(units=128, activation='relu')\n",
    "    Dense(units=64, activation='relu')\n",
    "    Dense(units=64, activation='relu')\n",
    "    Dense(units=1)\n",
    "])\n",
    "model.compile(optimizer='adam',loss='mean_squared_error')\n",
    "\n",
    "model.fit(X_train,y_train,epochs=200)\n",
    "\n",
    "train_y_hat = model.predict(X_train)\n",
    "train_mse = mean_squared_error(y_train,train_y_hat)\n",
    "\n",
    "test_y_hat = model.predict(X_test)\n",
    "test_mse = mean_squared_error(y_test,test_y_hat)\n",
    "\n",
    "print('train mse: ',train_mse, '\\ntest mse: ', test_mse)"
   ]
  },
  {
   "cell_type": "markdown",
   "metadata": {},
   "source": [
    "### XG Boost"
   ]
  },
  {
   "cell_type": "code",
   "execution_count": null,
   "metadata": {},
   "outputs": [],
   "source": [
    "import xgboost as xgb\n",
    "data_dmatrix = xgb.DMatrix(data=X_train,label=y_train)\n",
    "\n",
    "xg_reg = xgb.XGBRegressor(colsample_bytree = 1, learning_rate = 0.1, subsample = .4,\n",
    "                max_depth = 7, feature_selector='shuffle', rate_drop = .1, n_estimators = 1000).fit(X_train, y_train)\n",
    "\n",
    "xg_yhat = xg_reg.predict(X_test)\n",
    "xg_mse = mean_squared_error(y_test, xg_yhat)\n",
    "\n",
    "xg_tyhat = xg_reg.predict(X_train)\n",
    "xg_tmse = mean_squared_error(y_train, xg_tyhat)\n",
    "print('training',xg_tmse)\n",
    "print('testing',xg_mse)"
   ]
  },
  {
   "cell_type": "markdown",
   "metadata": {},
   "source": [
    "### Blended Model"
   ]
  },
  {
   "cell_type": "code",
   "execution_count": null,
   "metadata": {},
   "outputs": [],
   "source": [
    "blend_y_hat = test_y_hat * 0.1 + np.resize(xg_yhat * .9,(4000,1))\n",
    "test_mse = mean_squared_error(y_test,test_y_hat)\n",
    "print(test_mse)"
   ]
  }
 ],
 "metadata": {
  "kernelspec": {
   "display_name": "TensorFlow",
   "language": "python",
   "name": "tensorflow"
  },
  "language_info": {
   "codemirror_mode": {
    "name": "ipython",
    "version": 3
   },
   "file_extension": ".py",
   "mimetype": "text/x-python",
   "name": "python",
   "nbconvert_exporter": "python",
   "pygments_lexer": "ipython3",
   "version": "3.5.5"
  }
 },
 "nbformat": 4,
 "nbformat_minor": 2
}
